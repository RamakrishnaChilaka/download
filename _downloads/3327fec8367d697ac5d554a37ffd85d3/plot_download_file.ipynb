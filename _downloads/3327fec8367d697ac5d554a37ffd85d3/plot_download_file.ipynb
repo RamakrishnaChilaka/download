{
  "cells": [
    {
      "cell_type": "code",
      "execution_count": null,
      "metadata": {
        "collapsed": false
      },
      "outputs": [],
      "source": [
        "%matplotlib inline"
      ]
    },
    {
      "cell_type": "markdown",
      "metadata": {},
      "source": [
        "\nDownloading files and zipfiles\n------------------------------\n\nThis example shows off how to download a file, and optionally unzip it.\n\n"
      ]
    },
    {
      "cell_type": "code",
      "execution_count": null,
      "metadata": {
        "collapsed": false
      },
      "outputs": [],
      "source": [
        "from download import download\nimport matplotlib.pyplot as plt\nimport pandas as pd\nimport os.path as op\nfrom glob import glob\nimport shutil as sh"
      ]
    },
    {
      "cell_type": "markdown",
      "metadata": {},
      "source": [
        "Downloading a file simply requires that you have a URL.\n\n"
      ]
    },
    {
      "cell_type": "code",
      "execution_count": null,
      "metadata": {
        "collapsed": false
      },
      "outputs": [],
      "source": [
        "url = \"https://ndownloader.figshare.com/files/7010681\"\npath = download(url, \"./downloaded/boulder-precip.csv\", replace=True)\ndata = pd.read_csv(path)\nax = data.plot(\"DATE\", \"PRECIP\")\nax.set(title=\"Precipitation over time in Boulder, CO\")\nplt.setp(ax.get_xticklabels(), rotation=45)\nplt.tight_layout()"
      ]
    },
    {
      "cell_type": "markdown",
      "metadata": {},
      "source": [
        "You can optionally unzip the file to the directory of your choice\nusing ``zipfile=True``.\n\n"
      ]
    },
    {
      "cell_type": "code",
      "execution_count": null,
      "metadata": {
        "collapsed": false
      },
      "outputs": [],
      "source": [
        "url = \"http://www2.census.gov/geo/tiger/GENZ2016/shp/cb_2016_us_county_20m.zip\"\npath = download(url, \"./downloaded/counties/\", replace=True, kind=\"zip\")\nprint(glob(op.join(path, \"*\")))\nsh.rmtree(\"./downloaded\")\n\nplt.show()"
      ]
    }
  ],
  "metadata": {
    "kernelspec": {
      "display_name": "Python 3",
      "language": "python",
      "name": "python3"
    },
    "language_info": {
      "codemirror_mode": {
        "name": "ipython",
        "version": 3
      },
      "file_extension": ".py",
      "mimetype": "text/x-python",
      "name": "python",
      "nbconvert_exporter": "python",
      "pygments_lexer": "ipython3",
      "version": "3.6.10"
    }
  },
  "nbformat": 4,
  "nbformat_minor": 0
}