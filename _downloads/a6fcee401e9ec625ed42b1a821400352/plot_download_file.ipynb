{
  "nbformat_minor": 0, 
  "nbformat": 4, 
  "cells": [
    {
      "execution_count": null, 
      "cell_type": "code", 
      "source": [
        "%matplotlib inline"
      ], 
      "outputs": [], 
      "metadata": {
        "collapsed": false
      }
    }, 
    {
      "source": [
        "\nDownloading files and zipfiles\n------------------------------\n\nThis example shows off how to download a file, and optionally unzip it.\n\n"
      ], 
      "cell_type": "markdown", 
      "metadata": {}
    }, 
    {
      "execution_count": null, 
      "cell_type": "code", 
      "source": [
        "from download import download\nimport matplotlib.pyplot as plt\nimport pandas as pd\nimport os.path as op\nfrom glob import glob\nimport shutil as sh"
      ], 
      "outputs": [], 
      "metadata": {
        "collapsed": false
      }
    }, 
    {
      "source": [
        "Downloading a file simply requires that you have a URL.\n\n"
      ], 
      "cell_type": "markdown", 
      "metadata": {}
    }, 
    {
      "execution_count": null, 
      "cell_type": "code", 
      "source": [
        "url = \"https://ndownloader.figshare.com/files/7010681\"\npath = download(url, \"./downloaded/boulder-precip.csv\", replace=True)\ndata = pd.read_csv(path)\nax = data.plot(\"DATE\", \"PRECIP\")\nax.set(title=\"Precipitation over time in Boulder, CO\")\nplt.setp(ax.get_xticklabels(), rotation=45)\nplt.tight_layout()"
      ], 
      "outputs": [], 
      "metadata": {
        "collapsed": false
      }
    }, 
    {
      "source": [
        "You can optionally unzip the file to the directory of your choice\nusing ``zipfile=True``.\n\n"
      ], 
      "cell_type": "markdown", 
      "metadata": {}
    }, 
    {
      "execution_count": null, 
      "cell_type": "code", 
      "source": [
        "url = \"http://www2.census.gov/geo/tiger/GENZ2016/shp/cb_2016_us_county_20m.zip\"\npath = download(url, \"./downloaded/counties/\", replace=True, kind=\"zip\")\nprint(glob(op.join(path, \"*\")))\nsh.rmtree(\"./downloaded\")\n\nplt.show()"
      ], 
      "outputs": [], 
      "metadata": {
        "collapsed": false
      }
    }
  ], 
  "metadata": {
    "kernelspec": {
      "display_name": "Python 2", 
      "name": "python2", 
      "language": "python"
    }, 
    "language_info": {
      "mimetype": "text/x-python", 
      "nbconvert_exporter": "python", 
      "name": "python", 
      "file_extension": ".py", 
      "version": "2.7.17", 
      "pygments_lexer": "ipython2", 
      "codemirror_mode": {
        "version": 2, 
        "name": "ipython"
      }
    }
  }
}