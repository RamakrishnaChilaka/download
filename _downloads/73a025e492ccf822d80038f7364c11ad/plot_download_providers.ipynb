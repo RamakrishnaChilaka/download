{
  "cells": [
    {
      "cell_type": "code",
      "execution_count": null,
      "metadata": {
        "collapsed": false
      },
      "outputs": [],
      "source": [
        "%matplotlib inline"
      ]
    },
    {
      "cell_type": "markdown",
      "metadata": {},
      "source": [
        "\nDownload from Dropbox, Google Drive, and Github\n-----------------------------------------------\n\nIt's also possible to download files from Github, Google Drive, and Dropbox.\nWhile you can go through a little extra effort to get a direct download link,\n``download`` will try to make things a little bit easier for you.\n\n"
      ]
    },
    {
      "cell_type": "code",
      "execution_count": null,
      "metadata": {
        "collapsed": false
      },
      "outputs": [],
      "source": [
        "from download import download\nimport matplotlib.pyplot as plt\nimport os.path as op\nimport shutil as sh"
      ]
    },
    {
      "cell_type": "markdown",
      "metadata": {},
      "source": [
        "You can simply find the link to your content on GitHub and give it directly\nto Download. It will try to be smart about converting the link where\nnecessary.\n\n"
      ]
    },
    {
      "cell_type": "code",
      "execution_count": null,
      "metadata": {
        "collapsed": false
      },
      "outputs": [],
      "source": [
        "url = \"https://drive.google.com/file/d/0B8VZ4vaOYWZ3c3Y1c2ZQX01yREk/view?usp=sharing\"\npath = download(url, \"./downloaded/citation.png\", replace=True)\n\nfig, ax = plt.subplots()\nim = plt.imread(path)\nax.imshow(im)\nax.set_axis_off()"
      ]
    },
    {
      "cell_type": "markdown",
      "metadata": {},
      "source": [
        "The same works for Google Drive content.\n\n<div class=\"alert alert-info\"><h4>Note</h4><p>Make sure your sharing options let any user access the file.</p></div>\n\n"
      ]
    },
    {
      "cell_type": "code",
      "execution_count": null,
      "metadata": {
        "collapsed": false
      },
      "outputs": [],
      "source": [
        "url = \"https://github.com/choldgraf/download/blob/master/examples/data/citation.png\"\npath2 = download(url, \"./downloaded/citation2.png\", replace=True)\n\nfig, ax = plt.subplots()\nim2 = plt.imread(path)\nax.imshow(im2)\nax.set_axis_off()"
      ]
    },
    {
      "cell_type": "markdown",
      "metadata": {},
      "source": [
        "Dropbox links also work, though in this case ``download`` will use\nthe ``requests`` library to download the file. This is because Dropbox\nrequires cookies and requests is smart about handling this.\n\n"
      ]
    },
    {
      "cell_type": "code",
      "execution_count": null,
      "metadata": {
        "collapsed": false
      },
      "outputs": [],
      "source": [
        "url = \"https://www.dropbox.com/s/rlndt99tss65418/citation.png?dl=0\"\npath3 = download(url, \"./downloaded/citation3.png\", replace=True)\n\nfig, ax = plt.subplots()\nim3 = plt.imread(path3)\nax.imshow(im)\nax.set_axis_off()\n\nsh.rmtree(\"./downloaded\")\nplt.show()"
      ]
    }
  ],
  "metadata": {
    "kernelspec": {
      "display_name": "Python 3",
      "language": "python",
      "name": "python3"
    },
    "language_info": {
      "codemirror_mode": {
        "name": "ipython",
        "version": 3
      },
      "file_extension": ".py",
      "mimetype": "text/x-python",
      "name": "python",
      "nbconvert_exporter": "python",
      "pygments_lexer": "ipython3",
      "version": "3.6.10"
    }
  },
  "nbformat": 4,
  "nbformat_minor": 0
}